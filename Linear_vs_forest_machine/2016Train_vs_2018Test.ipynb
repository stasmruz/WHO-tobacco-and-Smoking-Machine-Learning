{
 "cells": [
  {
   "cell_type": "code",
   "execution_count": 11,
   "metadata": {},
   "outputs": [],
   "source": [
    "import numpy as np\n",
    "import pandas as pd\n",
    "from pathlib import Path\n",
    "%matplotlib inline\n",
    "import matplotlib.pyplot as plt\n",
    "import os"
   ]
  },
  {
   "cell_type": "code",
   "execution_count": 2,
   "metadata": {},
   "outputs": [],
   "source": [
    "#import\n",
    "train_df = pd.read_csv(\"../Resources/2016_train.csv\")\n",
    "test_df = pd.read_csv(\"../Resources/2018_test.csv\")"
   ]
  },
  {
   "cell_type": "code",
   "execution_count": 25,
   "metadata": {
    "scrolled": true
   },
   "outputs": [
    {
     "data": {
      "text/html": [
       "<div>\n",
       "<style scoped>\n",
       "    .dataframe tbody tr th:only-of-type {\n",
       "        vertical-align: middle;\n",
       "    }\n",
       "\n",
       "    .dataframe tbody tr th {\n",
       "        vertical-align: top;\n",
       "    }\n",
       "\n",
       "    .dataframe thead th {\n",
       "        text-align: right;\n",
       "    }\n",
       "</style>\n",
       "<table border=\"1\" class=\"dataframe\">\n",
       "  <thead>\n",
       "    <tr style=\"text-align: right;\">\n",
       "      <th></th>\n",
       "      <th>Unnamed: 0</th>\n",
       "      <th>Unnamed: 0.1</th>\n",
       "      <th>Year</th>\n",
       "      <th>Location</th>\n",
       "      <th>CigaretteSmokingPrevalence</th>\n",
       "      <th>TobaccoSmokingPrevalence</th>\n",
       "      <th>TobaccoUsePrevalance</th>\n",
       "      <th>MostSoldBrandCigaretteCurrency</th>\n",
       "      <th>MostSoldBrandCigarettePrice</th>\n",
       "      <th>rates</th>\n",
       "      <th>MostSoldUSD</th>\n",
       "    </tr>\n",
       "  </thead>\n",
       "  <tbody>\n",
       "    <tr>\n",
       "      <th>0</th>\n",
       "      <td>0</td>\n",
       "      <td>0</td>\n",
       "      <td>2018</td>\n",
       "      <td>Albania</td>\n",
       "      <td>43.3</td>\n",
       "      <td>50.5</td>\n",
       "      <td>50.5</td>\n",
       "      <td>All</td>\n",
       "      <td>240.0</td>\n",
       "      <td>0.009610</td>\n",
       "      <td>2.306400</td>\n",
       "    </tr>\n",
       "    <tr>\n",
       "      <th>1</th>\n",
       "      <td>1</td>\n",
       "      <td>1</td>\n",
       "      <td>2018</td>\n",
       "      <td>Algeria</td>\n",
       "      <td>11.1</td>\n",
       "      <td>14.5</td>\n",
       "      <td>18.8</td>\n",
       "      <td>DZD</td>\n",
       "      <td>300.0</td>\n",
       "      <td>0.007330</td>\n",
       "      <td>2.199000</td>\n",
       "    </tr>\n",
       "    <tr>\n",
       "      <th>2</th>\n",
       "      <td>2</td>\n",
       "      <td>2</td>\n",
       "      <td>2018</td>\n",
       "      <td>Andorra</td>\n",
       "      <td>27.7</td>\n",
       "      <td>33.8</td>\n",
       "      <td>33.8</td>\n",
       "      <td>EUR</td>\n",
       "      <td>3.6</td>\n",
       "      <td>1.168889</td>\n",
       "      <td>4.208000</td>\n",
       "    </tr>\n",
       "    <tr>\n",
       "      <th>3</th>\n",
       "      <td>3</td>\n",
       "      <td>3</td>\n",
       "      <td>2018</td>\n",
       "      <td>Austria</td>\n",
       "      <td>27.0</td>\n",
       "      <td>29.1</td>\n",
       "      <td>29.1</td>\n",
       "      <td>EUR</td>\n",
       "      <td>5.5</td>\n",
       "      <td>1.168889</td>\n",
       "      <td>6.428890</td>\n",
       "    </tr>\n",
       "    <tr>\n",
       "      <th>4</th>\n",
       "      <td>4</td>\n",
       "      <td>4</td>\n",
       "      <td>2018</td>\n",
       "      <td>Belgium</td>\n",
       "      <td>23.4</td>\n",
       "      <td>25.0</td>\n",
       "      <td>25.0</td>\n",
       "      <td>EUR</td>\n",
       "      <td>6.6</td>\n",
       "      <td>1.168889</td>\n",
       "      <td>7.714667</td>\n",
       "    </tr>\n",
       "    <tr>\n",
       "      <th>...</th>\n",
       "      <td>...</td>\n",
       "      <td>...</td>\n",
       "      <td>...</td>\n",
       "      <td>...</td>\n",
       "      <td>...</td>\n",
       "      <td>...</td>\n",
       "      <td>...</td>\n",
       "      <td>...</td>\n",
       "      <td>...</td>\n",
       "      <td>...</td>\n",
       "      <td>...</td>\n",
       "    </tr>\n",
       "    <tr>\n",
       "      <th>103</th>\n",
       "      <td>103</td>\n",
       "      <td>103</td>\n",
       "      <td>2018</td>\n",
       "      <td>Saudi Arabia</td>\n",
       "      <td>18.6</td>\n",
       "      <td>12.7</td>\n",
       "      <td>2.0</td>\n",
       "      <td>SAR</td>\n",
       "      <td>27.5</td>\n",
       "      <td>0.266681</td>\n",
       "      <td>7.333728</td>\n",
       "    </tr>\n",
       "    <tr>\n",
       "      <th>104</th>\n",
       "      <td>104</td>\n",
       "      <td>104</td>\n",
       "      <td>2018</td>\n",
       "      <td>Serbia</td>\n",
       "      <td>36.2</td>\n",
       "      <td>40.6</td>\n",
       "      <td>40.6</td>\n",
       "      <td>RSD</td>\n",
       "      <td>250.0</td>\n",
       "      <td>0.009941</td>\n",
       "      <td>2.485250</td>\n",
       "    </tr>\n",
       "    <tr>\n",
       "      <th>105</th>\n",
       "      <td>105</td>\n",
       "      <td>105</td>\n",
       "      <td>2018</td>\n",
       "      <td>Seychelles</td>\n",
       "      <td>31.0</td>\n",
       "      <td>35.3</td>\n",
       "      <td>35.3</td>\n",
       "      <td>SCR</td>\n",
       "      <td>117.0</td>\n",
       "      <td>0.075113</td>\n",
       "      <td>8.788221</td>\n",
       "    </tr>\n",
       "    <tr>\n",
       "      <th>106</th>\n",
       "      <td>106</td>\n",
       "      <td>106</td>\n",
       "      <td>2018</td>\n",
       "      <td>Sierra Leone</td>\n",
       "      <td>29.1</td>\n",
       "      <td>31.0</td>\n",
       "      <td>31.0</td>\n",
       "      <td>SLL</td>\n",
       "      <td>5000.0</td>\n",
       "      <td>0.000095</td>\n",
       "      <td>0.475000</td>\n",
       "    </tr>\n",
       "    <tr>\n",
       "      <th>107</th>\n",
       "      <td>107</td>\n",
       "      <td>107</td>\n",
       "      <td>2018</td>\n",
       "      <td>Singapore</td>\n",
       "      <td>25.0</td>\n",
       "      <td>27.8</td>\n",
       "      <td>27.8</td>\n",
       "      <td>SGD</td>\n",
       "      <td>14.1</td>\n",
       "      <td>0.736990</td>\n",
       "      <td>10.391559</td>\n",
       "    </tr>\n",
       "  </tbody>\n",
       "</table>\n",
       "<p>108 rows × 11 columns</p>\n",
       "</div>"
      ],
      "text/plain": [
       "     Unnamed: 0  Unnamed: 0.1  Year      Location  CigaretteSmokingPrevalence  \\\n",
       "0             0             0  2018       Albania                        43.3   \n",
       "1             1             1  2018       Algeria                        11.1   \n",
       "2             2             2  2018       Andorra                        27.7   \n",
       "3             3             3  2018       Austria                        27.0   \n",
       "4             4             4  2018       Belgium                        23.4   \n",
       "..          ...           ...   ...           ...                         ...   \n",
       "103         103           103  2018  Saudi Arabia                        18.6   \n",
       "104         104           104  2018        Serbia                        36.2   \n",
       "105         105           105  2018    Seychelles                        31.0   \n",
       "106         106           106  2018  Sierra Leone                        29.1   \n",
       "107         107           107  2018     Singapore                        25.0   \n",
       "\n",
       "     TobaccoSmokingPrevalence  TobaccoUsePrevalance  \\\n",
       "0                        50.5                  50.5   \n",
       "1                        14.5                  18.8   \n",
       "2                        33.8                  33.8   \n",
       "3                        29.1                  29.1   \n",
       "4                        25.0                  25.0   \n",
       "..                        ...                   ...   \n",
       "103                      12.7                   2.0   \n",
       "104                      40.6                  40.6   \n",
       "105                      35.3                  35.3   \n",
       "106                      31.0                  31.0   \n",
       "107                      27.8                  27.8   \n",
       "\n",
       "    MostSoldBrandCigaretteCurrency  MostSoldBrandCigarettePrice     rates  \\\n",
       "0                              All                        240.0  0.009610   \n",
       "1                              DZD                        300.0  0.007330   \n",
       "2                              EUR                          3.6  1.168889   \n",
       "3                              EUR                          5.5  1.168889   \n",
       "4                              EUR                          6.6  1.168889   \n",
       "..                             ...                          ...       ...   \n",
       "103                            SAR                         27.5  0.266681   \n",
       "104                            RSD                        250.0  0.009941   \n",
       "105                            SCR                        117.0  0.075113   \n",
       "106                            SLL                       5000.0  0.000095   \n",
       "107                            SGD                         14.1  0.736990   \n",
       "\n",
       "     MostSoldUSD  \n",
       "0       2.306400  \n",
       "1       2.199000  \n",
       "2       4.208000  \n",
       "3       6.428890  \n",
       "4       7.714667  \n",
       "..           ...  \n",
       "103     7.333728  \n",
       "104     2.485250  \n",
       "105     8.788221  \n",
       "106     0.475000  \n",
       "107    10.391559  \n",
       "\n",
       "[108 rows x 11 columns]"
      ]
     },
     "execution_count": 25,
     "metadata": {},
     "output_type": "execute_result"
    }
   ],
   "source": [
    "test_df"
   ]
  },
  {
   "cell_type": "code",
   "execution_count": 4,
   "metadata": {},
   "outputs": [
    {
     "data": {
      "text/html": [
       "<div>\n",
       "<style scoped>\n",
       "    .dataframe tbody tr th:only-of-type {\n",
       "        vertical-align: middle;\n",
       "    }\n",
       "\n",
       "    .dataframe tbody tr th {\n",
       "        vertical-align: top;\n",
       "    }\n",
       "\n",
       "    .dataframe thead th {\n",
       "        text-align: right;\n",
       "    }\n",
       "</style>\n",
       "<table border=\"1\" class=\"dataframe\">\n",
       "  <thead>\n",
       "    <tr style=\"text-align: right;\">\n",
       "      <th></th>\n",
       "      <th>Year</th>\n",
       "      <th>Location</th>\n",
       "      <th>CigaretteSmokingPrevalence</th>\n",
       "      <th>TobaccoSmokingPrevalence</th>\n",
       "      <th>TobaccoUsePrevalance</th>\n",
       "      <th>MostSoldBrandCigaretteCurrency</th>\n",
       "      <th>MostSoldBrandCigarettePrice</th>\n",
       "      <th>rates</th>\n",
       "      <th>MostSoldUSD</th>\n",
       "    </tr>\n",
       "  </thead>\n",
       "  <tbody>\n",
       "    <tr>\n",
       "      <th>0</th>\n",
       "      <td>2016</td>\n",
       "      <td>Albania</td>\n",
       "      <td>43.7</td>\n",
       "      <td>51.1</td>\n",
       "      <td>51.1</td>\n",
       "      <td>All</td>\n",
       "      <td>230.00</td>\n",
       "      <td>0.009610</td>\n",
       "      <td>2.210300</td>\n",
       "    </tr>\n",
       "    <tr>\n",
       "      <th>1</th>\n",
       "      <td>2016</td>\n",
       "      <td>Algeria</td>\n",
       "      <td>11.2</td>\n",
       "      <td>14.7</td>\n",
       "      <td>19.1</td>\n",
       "      <td>DZD</td>\n",
       "      <td>210.00</td>\n",
       "      <td>0.007330</td>\n",
       "      <td>1.539300</td>\n",
       "    </tr>\n",
       "    <tr>\n",
       "      <th>2</th>\n",
       "      <td>2016</td>\n",
       "      <td>Andorra</td>\n",
       "      <td>27.9</td>\n",
       "      <td>33.9</td>\n",
       "      <td>33.9</td>\n",
       "      <td>EUR</td>\n",
       "      <td>3.50</td>\n",
       "      <td>1.168889</td>\n",
       "      <td>4.091112</td>\n",
       "    </tr>\n",
       "    <tr>\n",
       "      <th>3</th>\n",
       "      <td>2016</td>\n",
       "      <td>Austria</td>\n",
       "      <td>28.5</td>\n",
       "      <td>30.7</td>\n",
       "      <td>30.7</td>\n",
       "      <td>EUR</td>\n",
       "      <td>5.00</td>\n",
       "      <td>1.168889</td>\n",
       "      <td>5.844445</td>\n",
       "    </tr>\n",
       "    <tr>\n",
       "      <th>4</th>\n",
       "      <td>2016</td>\n",
       "      <td>Belgium</td>\n",
       "      <td>23.8</td>\n",
       "      <td>25.5</td>\n",
       "      <td>25.5</td>\n",
       "      <td>EUR</td>\n",
       "      <td>6.32</td>\n",
       "      <td>1.168889</td>\n",
       "      <td>7.387378</td>\n",
       "    </tr>\n",
       "    <tr>\n",
       "      <th>...</th>\n",
       "      <td>...</td>\n",
       "      <td>...</td>\n",
       "      <td>...</td>\n",
       "      <td>...</td>\n",
       "      <td>...</td>\n",
       "      <td>...</td>\n",
       "      <td>...</td>\n",
       "      <td>...</td>\n",
       "      <td>...</td>\n",
       "    </tr>\n",
       "    <tr>\n",
       "      <th>114</th>\n",
       "      <td>2016</td>\n",
       "      <td>Saudi Arabia</td>\n",
       "      <td>18.4</td>\n",
       "      <td>12.7</td>\n",
       "      <td>2.2</td>\n",
       "      <td>SAR</td>\n",
       "      <td>12.00</td>\n",
       "      <td>0.266681</td>\n",
       "      <td>3.200172</td>\n",
       "    </tr>\n",
       "    <tr>\n",
       "      <th>115</th>\n",
       "      <td>2016</td>\n",
       "      <td>Serbia</td>\n",
       "      <td>36.5</td>\n",
       "      <td>41.2</td>\n",
       "      <td>41.2</td>\n",
       "      <td>RSD</td>\n",
       "      <td>220.00</td>\n",
       "      <td>0.009941</td>\n",
       "      <td>2.187020</td>\n",
       "    </tr>\n",
       "    <tr>\n",
       "      <th>116</th>\n",
       "      <td>2016</td>\n",
       "      <td>Seychelles</td>\n",
       "      <td>31.4</td>\n",
       "      <td>35.9</td>\n",
       "      <td>36.0</td>\n",
       "      <td>SCR</td>\n",
       "      <td>105.00</td>\n",
       "      <td>0.075113</td>\n",
       "      <td>7.886865</td>\n",
       "    </tr>\n",
       "    <tr>\n",
       "      <th>117</th>\n",
       "      <td>2016</td>\n",
       "      <td>Sierra Leone</td>\n",
       "      <td>30.4</td>\n",
       "      <td>32.6</td>\n",
       "      <td>32.6</td>\n",
       "      <td>SLL</td>\n",
       "      <td>3500.00</td>\n",
       "      <td>0.000095</td>\n",
       "      <td>0.332500</td>\n",
       "    </tr>\n",
       "    <tr>\n",
       "      <th>118</th>\n",
       "      <td>2016</td>\n",
       "      <td>Singapore</td>\n",
       "      <td>24.8</td>\n",
       "      <td>27.9</td>\n",
       "      <td>27.9</td>\n",
       "      <td>SGD</td>\n",
       "      <td>13.00</td>\n",
       "      <td>0.736990</td>\n",
       "      <td>9.580870</td>\n",
       "    </tr>\n",
       "  </tbody>\n",
       "</table>\n",
       "<p>119 rows × 9 columns</p>\n",
       "</div>"
      ],
      "text/plain": [
       "     Year      Location  CigaretteSmokingPrevalence  TobaccoSmokingPrevalence  \\\n",
       "0    2016       Albania                        43.7                      51.1   \n",
       "1    2016       Algeria                        11.2                      14.7   \n",
       "2    2016       Andorra                        27.9                      33.9   \n",
       "3    2016       Austria                        28.5                      30.7   \n",
       "4    2016       Belgium                        23.8                      25.5   \n",
       "..    ...           ...                         ...                       ...   \n",
       "114  2016  Saudi Arabia                        18.4                      12.7   \n",
       "115  2016        Serbia                        36.5                      41.2   \n",
       "116  2016    Seychelles                        31.4                      35.9   \n",
       "117  2016  Sierra Leone                        30.4                      32.6   \n",
       "118  2016     Singapore                        24.8                      27.9   \n",
       "\n",
       "     TobaccoUsePrevalance MostSoldBrandCigaretteCurrency  \\\n",
       "0                    51.1                            All   \n",
       "1                    19.1                            DZD   \n",
       "2                    33.9                            EUR   \n",
       "3                    30.7                            EUR   \n",
       "4                    25.5                            EUR   \n",
       "..                    ...                            ...   \n",
       "114                   2.2                            SAR   \n",
       "115                  41.2                            RSD   \n",
       "116                  36.0                            SCR   \n",
       "117                  32.6                            SLL   \n",
       "118                  27.9                            SGD   \n",
       "\n",
       "     MostSoldBrandCigarettePrice     rates  MostSoldUSD  \n",
       "0                         230.00  0.009610     2.210300  \n",
       "1                         210.00  0.007330     1.539300  \n",
       "2                           3.50  1.168889     4.091112  \n",
       "3                           5.00  1.168889     5.844445  \n",
       "4                           6.32  1.168889     7.387378  \n",
       "..                           ...       ...          ...  \n",
       "114                        12.00  0.266681     3.200172  \n",
       "115                       220.00  0.009941     2.187020  \n",
       "116                       105.00  0.075113     7.886865  \n",
       "117                      3500.00  0.000095     0.332500  \n",
       "118                        13.00  0.736990     9.580870  \n",
       "\n",
       "[119 rows x 9 columns]"
      ]
     },
     "execution_count": 4,
     "metadata": {},
     "output_type": "execute_result"
    }
   ],
   "source": [
    "#drop unnamed collumn\n",
    "train_df = train_df.drop('Unnamed: 0', axis = 1)\n",
    "train_df = train_df.drop('Unnamed: 0.1', axis = 1)\n",
    "train_df"
   ]
  },
  {
   "cell_type": "code",
   "execution_count": 26,
   "metadata": {},
   "outputs": [],
   "source": [
    "test_df = test_df.drop('Unnamed: 0', axis = 1)\n",
    "test_df = test_df.drop('Unnamed: 0.1', axis = 1)"
   ]
  },
  {
   "cell_type": "code",
   "execution_count": 19,
   "metadata": {},
   "outputs": [],
   "source": [
    "train_df.loc[:, \"CigaretteSmokingPrevalence\"] = train_df.loc[:, \"CigaretteSmokingPrevalence\"].astype(\"int\")\n",
    "train_df.loc[:, \"TobaccoSmokingPrevalence\"] = train_df.loc[:, \"TobaccoSmokingPrevalence\"].astype(\"int\")\n",
    "train_df.loc[:, \"TobaccoUsePrevalance\"] = train_df.loc[:, \"TobaccoUsePrevalance\"].astype(\"int\")"
   ]
  },
  {
   "cell_type": "code",
   "execution_count": 27,
   "metadata": {},
   "outputs": [],
   "source": [
    "test_df.loc[:, \"CigaretteSmokingPrevalence\"] = test_df.loc[:, \"CigaretteSmokingPrevalence\"].astype(\"int\")\n",
    "test_df.loc[:, \"TobaccoSmokingPrevalence\"] = test_df.loc[:, \"TobaccoSmokingPrevalence\"].astype(\"int\")\n",
    "test_df.loc[:, \"TobaccoUsePrevalance\"] = test_df.loc[:, \"TobaccoUsePrevalance\"].astype(\"int\")"
   ]
  },
  {
   "cell_type": "code",
   "execution_count": 28,
   "metadata": {},
   "outputs": [
    {
     "name": "stdout",
     "output_type": "stream",
     "text": [
      "Shape:  (119, 2) (119,)\n"
     ]
    }
   ],
   "source": [
    "X_train= train_df[[\"TobaccoSmokingPrevalence\", \"TobaccoUsePrevalance\"]]\n",
    "y_train = train_df[\"CigaretteSmokingPrevalence\"]\n",
    "\n",
    "print(\"Shape: \", X.shape, y.shape)"
   ]
  },
  {
   "cell_type": "code",
   "execution_count": 29,
   "metadata": {},
   "outputs": [],
   "source": [
    "X_test = test_df[[\"TobaccoSmokingPrevalence\", \"TobaccoUsePrevalance\"]]\n",
    "y_test = test_df[\"CigaretteSmokingPrevalence\"]"
   ]
  },
  {
   "cell_type": "code",
   "execution_count": 30,
   "metadata": {},
   "outputs": [
    {
     "data": {
      "text/plain": [
       "LogisticRegression()"
      ]
     },
     "execution_count": 30,
     "metadata": {},
     "output_type": "execute_result"
    }
   ],
   "source": [
    "from sklearn.linear_model import LogisticRegression\n",
    "classifier = LogisticRegression()\n",
    "classifier"
   ]
  },
  {
   "cell_type": "code",
   "execution_count": 31,
   "metadata": {},
   "outputs": [
    {
     "name": "stderr",
     "output_type": "stream",
     "text": [
      "/Users/nikolajankovic/opt/anaconda3/lib/python3.8/site-packages/sklearn/linear_model/_logistic.py:763: ConvergenceWarning: lbfgs failed to converge (status=1):\n",
      "STOP: TOTAL NO. of ITERATIONS REACHED LIMIT.\n",
      "\n",
      "Increase the number of iterations (max_iter) or scale the data as shown in:\n",
      "    https://scikit-learn.org/stable/modules/preprocessing.html\n",
      "Please also refer to the documentation for alternative solver options:\n",
      "    https://scikit-learn.org/stable/modules/linear_model.html#logistic-regression\n",
      "  n_iter_i = _check_optimize_result(\n"
     ]
    },
    {
     "data": {
      "text/plain": [
       "LogisticRegression()"
      ]
     },
     "execution_count": 31,
     "metadata": {},
     "output_type": "execute_result"
    }
   ],
   "source": [
    "classifier.fit(X_train, y_train)"
   ]
  },
  {
   "cell_type": "code",
   "execution_count": 32,
   "metadata": {},
   "outputs": [
    {
     "name": "stdout",
     "output_type": "stream",
     "text": [
      "Training Data Score: 0.20168067226890757\n",
      "Testing Data Score: 0.12037037037037036\n"
     ]
    }
   ],
   "source": [
    "print(f\"Training Data Score: {classifier.score(X_train, y_train)}\")\n",
    "print(f\"Testing Data Score: {classifier.score(X_test, y_test)}\")"
   ]
  },
  {
   "cell_type": "code",
   "execution_count": 33,
   "metadata": {},
   "outputs": [
    {
     "name": "stdout",
     "output_type": "stream",
     "text": [
      "Training Data Score: 0.7478991596638656\n",
      "Testing Data Score: 0.3148148148148148\n"
     ]
    }
   ],
   "source": [
    "from sklearn.ensemble import RandomForestClassifier\n",
    "ran_for = RandomForestClassifier(random_state=1)\n",
    "ran_for.fit(X_train, y_train)\n",
    "print(f\"Training Data Score: {ran_for.score(X_train, y_train)}\")\n",
    "print(f\"Testing Data Score: {ran_for.score(X_test, y_test)}\")"
   ]
  },
  {
   "cell_type": "code",
   "execution_count": 34,
   "metadata": {},
   "outputs": [],
   "source": [
    "from sklearn.preprocessing import StandardScaler, MinMaxScaler, LabelEncoder\n",
    "scaler = StandardScaler().fit(X_train)\n",
    "X_train_scaled = scaler.transform(X_train)\n",
    "X_test_scaled = scaler.transform(X_test)"
   ]
  },
  {
   "cell_type": "code",
   "execution_count": 35,
   "metadata": {},
   "outputs": [
    {
     "name": "stdout",
     "output_type": "stream",
     "text": [
      "Training Data Score: 0.19327731092436976\n",
      "Testing Data Score: 0.1388888888888889\n"
     ]
    }
   ],
   "source": [
    "log_reg = LogisticRegression(solver= \"lbfgs\", random_state=1)\n",
    "log_reg.fit(X_train_scaled, y_train)\n",
    "print(f\"Training Data Score: {log_reg.score(X_train_scaled, y_train)}\")\n",
    "print(f\"Testing Data Score: {log_reg.score(X_test_scaled, y_test)}\")"
   ]
  },
  {
   "cell_type": "code",
   "execution_count": 38,
   "metadata": {},
   "outputs": [
    {
     "name": "stdout",
     "output_type": "stream",
     "text": [
      "Training Data Score: 0.7478991596638656\n",
      "Testing Data Score: 0.3425925925925926\n"
     ]
    }
   ],
   "source": [
    "ran_for = RandomForestClassifier(random_state=1, n_estimators=500)\n",
    "ran_for.fit(X_train_scaled, y_train)\n",
    "print(f\"Training Data Score: {ran_for.score(X_train_scaled, y_train)}\")\n",
    "print(f\"Testing Data Score: {ran_for.score(X_test_scaled, y_test)}\")"
   ]
  },
  {
   "cell_type": "code",
   "execution_count": 39,
   "metadata": {},
   "outputs": [],
   "source": [
    "feature_importances = ran_for.feature_importances_"
   ]
  },
  {
   "cell_type": "code",
   "execution_count": 41,
   "metadata": {},
   "outputs": [
    {
     "data": {
      "image/png": "[encoded data removed]",
      "text/plain": [
       "<Figure size 720x3600 with 1 Axes>"
      ]
     },
     "metadata": {
      "needs_background": "light"
     },
     "output_type": "display_data"
    }
   ],
   "source": [
    "features = sorted(zip(X.columns, ran_for.feature_importances_), key = lambda x: x[1])\n",
    "cols = [f[0] for f in features]\n",
    "width = [f[1] for f in features]\n",
    "\n",
    "fig, ax = plt.subplots()\n",
    "\n",
    "fig.set_size_inches(10,50)\n",
    "plt.margins(y=0.001)\n",
    "\n",
    "ax.barh(y=cols, width=width)\n",
    "\n",
    "plt.show()"
   ]
  }
 ],
 "metadata": {
  "kernelspec": {
   "display_name": "Python 3",
   "language": "python",
   "name": "python3"
  },
  "language_info": {
   "codemirror_mode": {
    "name": "ipython",
    "version": 3
   },
   "file_extension": ".py",
   "mimetype": "text/x-python",
   "name": "python",
   "nbconvert_exporter": "python",
   "pygments_lexer": "ipython3",
   "version": "3.8.10"
  }
 },
 "nbformat": 4,
 "nbformat_minor": 4
}
